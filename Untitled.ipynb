{
 "cells": [
  {
   "cell_type": "code",
   "execution_count": 10,
   "metadata": {},
   "outputs": [
    {
     "name": "stdout",
     "output_type": "stream",
     "text": [
      "to\n"
     ]
    }
   ],
   "source": [
    "# Задача 1. Дано слово из латинских букв. \n",
    "# Напишите скрипт, который выводит на экран букву из середины слова \n",
    "#(если число букв нечетное). Если букв четное число, то на экран выводятся две буквы из середины.\n",
    "\n",
    "my_word = 'pitona'\n",
    "letter_count = len(my_word)\n",
    "#print (letter_count)\n",
    "if letter_count % 2 == 0:\n",
    "    print(my_word[letter_count % 2 + 2 : letter_count % 2 + 4]) \n",
    "else:\n",
    "    print(my_word[letter_count % 2 + 1])"
   ]
  },
  {
   "cell_type": "code",
   "execution_count": 17,
   "metadata": {},
   "outputs": [
    {
     "name": "stdout",
     "output_type": "stream",
     "text": [
      "Идеальные пары:\n",
      "Alex и Emma\n",
      "Arthur и Kate\n",
      "John и Kira\n",
      "Peter и Liza\n",
      "Richard и Trisha\n"
     ]
    }
   ],
   "source": [
    "#Задача 2. Мы делаем MVP dating-сервиса, \n",
    "# и у нас есть список парней и девушек (их число может варьироваться):\n",
    "# \"Познакомить\" пары нам поможет функция zip, а в цикле распакуем zip-объект и выведем информацию в виде:\n",
    "\n",
    "boys = ['Peter', 'Alex', 'John', 'Arthur', 'Richard']\n",
    "girls = ['Kate', 'Liza', 'Kira', 'Emma', 'Trisha']\n",
    "if len(boys) != len(girls):\n",
    "    print('Кто-то может остаться без пары!')\n",
    "else:\n",
    "    boys_sort = sorted(boys)\n",
    "    girls_sort = sorted(girls)\n",
    "    zipped = zip(boys_sort, girls_sort)\n",
    "    print('Идеальные пары:')\n",
    "    for boy, girl in zipped:\n",
    "     print(f'{boy} и {girl}')"
   ]
  },
  {
   "cell_type": "code",
   "execution_count": 12,
   "metadata": {},
   "outputs": [
    {
     "name": "stdout",
     "output_type": "stream",
     "text": [
      "Thailand\n",
      "24\n",
      "Germany\n",
      "14\n",
      "Russia\n",
      "4\n",
      "Poland\n",
      "12\n"
     ]
    }
   ],
   "source": [
    "# Задача 3. У нас есть список, содержащий информацию о среднедневной температуре в Фаренгейтах\n",
    "# за недельный период по странам. Необходимо написать код, который рассчитает среднюю температуру\n",
    "# за неделю в Цельсиях для каждой страны.\n",
    "\n",
    "countries_temperature = [\n",
    " ['Thailand', [75.2, 77, 78.8, 73.4, 68, 75.2, 77]],\n",
    " ['Germany', [57.2, 55.4, 59, 59, 53.6, 55.4, 57.2]],\n",
    " ['Russia', [35.6, 37.4, 39.2, 41, 42.8, 39.2, 35.6]],\n",
    " ['Poland', [50, 50, 53.6, 57.2, 55.4, 55.4, 51.8]],\n",
    "]\n",
    "for country in countries_temperature:\n",
    "    print(country[0])\n",
    "    average = round(((sum(country[1]) / len(country[1])) - 32) * (5 / 9))\n",
    "    print(average)\n"
   ]
  },
  {
   "cell_type": "code",
   "execution_count": 13,
   "metadata": {},
   "outputs": [
    {
     "name": "stdout",
     "output_type": "stream",
     "text": [
      "23.25\n"
     ]
    }
   ],
   "source": [
    "# Задача 4. Дан поток логов по количеству просмотренных страниц для каждого пользователя. \n",
    "# Список отсортирован по ID пользователя. Вам необходимо написать алгоритм, который считает \n",
    "# среднее значение просмотров на пользователя. Т. е. надо посчитать отношение суммы всех просмотров\n",
    "# к количеству уникальных пользователей.\n",
    "\n",
    "stream = [\n",
    "    '2018-01-01,user1,3',\n",
    "    '2018-01-07,user1,4',\n",
    "    '2018-03-29,user1,1',\n",
    "    '2018-04-04,user1,13',\n",
    "    '2018-01-05,user2,7',\n",
    "    '2018-06-14,user3,4',\n",
    "    '2018-07-02,user3,10',\n",
    "    '2018-03-21,user4,19',\n",
    "    '2018-03-22,user4,4',\n",
    "    '2018-04-22,user4,8',\n",
    "    '2018-05-03,user4,9',\n",
    "    '2018-05-11,user4,11',\n",
    "]\n",
    "number_of_users = []\n",
    "sum_of_visits = 0\n",
    "for line in stream:\n",
    "    splited_stream = line.split(',')\n",
    "    users = splited_stream[1]\n",
    "    visits = int(splited_stream[2])\n",
    "    number_of_users.append(users)\n",
    "    sum_of_visits += visits\n",
    "set_number_of_users = set(number_of_users)\n",
    "result = sum_of_visits / len(set_number_of_users)\n",
    "print(result)\n",
    "\n",
    "\n"
   ]
  },
  {
   "cell_type": "code",
   "execution_count": 14,
   "metadata": {},
   "outputs": [
    {
     "name": "stdout",
     "output_type": "stream",
     "text": [
      "Input DATA 2018-01-03\n",
      "Input COMP google\n",
      "1843\n"
     ]
    }
   ],
   "source": [
    "#Задача 5. Дана статистика рекламных кампаний по дням. Напишите алгоритм, который по паре дата-кампания\n",
    "# ищет значение численного столбца. Т. е. для даты '2018-01-01' и 'google' нужно получить число 25. \n",
    "# Считайте, что все комбинации дата-кампания уникальны.\n",
    "\n",
    "status = [ \n",
    "    ['2018-01-01', 'google', 25],\n",
    "    ['2018-01-01', 'yandex', 65],\n",
    "    ['2018-01-01', 'market', 89],\n",
    "    ['2018-01-02', 'google', 574],\n",
    "    ['2018-01-02', 'yandex', 249],\n",
    "    ['2018-01-02', 'market', 994],\n",
    "    ['2018-01-03', 'google', 1843],\n",
    "    ['2018-01-03', 'yandex', 1327],\n",
    "    ['2018-01-03', 'market', 1764],\n",
    "]\n",
    "d_status = dict ()\n",
    " \n",
    "for temp in status:\n",
    "    \n",
    "    d_status [temp[0] + temp[1]] = temp[2] \n",
    "\n",
    "data = input(\"Input DATA \")\n",
    "\n",
    "comp = input(\"Input COMP \")\n",
    "\n",
    "dc = data + comp \n",
    "if dc in d_status.keys(): \n",
    "    print(d_status[dc])\n",
    "else:\n",
    "    print(\"NO DATA\")"
   ]
  },
  {
   "cell_type": "code",
   "execution_count": 15,
   "metadata": {},
   "outputs": [
    {
     "name": "stdout",
     "output_type": "stream",
     "text": [
      "103\n"
     ]
    }
   ],
   "source": [
    "# Задача 6. Дан список вида:\n",
    "# Напишите код, который будет вычислять сумму элементов на диагонали. Т. е. 13+32+23+35.\n",
    "# Список может быть любой длины, но всегда является \"квадратным\" \n",
    "#(количество элементов во вложенных списках равно их количеству).\n",
    "\n",
    "data = [\n",
    "    [13, 25, 23, 34],\n",
    "    [45, 32, 44, 47],\n",
    "    [12, 33, 23, 95],\n",
    "    [13, 53, 34, 35]\n",
    "]\n",
    "new_sum = 0\n",
    "i = 0\n",
    "for line in data:\n",
    "    element_number = line[i]\n",
    "    new_sum += element_number\n",
    "    i += 1\n",
    "print(new_sum)\n"
   ]
  },
  {
   "cell_type": "code",
   "execution_count": null,
   "metadata": {},
   "outputs": [],
   "source": []
  }
 ],
 "metadata": {
  "kernelspec": {
   "display_name": "Python 3",
   "language": "python",
   "name": "python3"
  },
  "language_info": {
   "codemirror_mode": {
    "name": "ipython",
    "version": 3
   },
   "file_extension": ".py",
   "mimetype": "text/x-python",
   "name": "python",
   "nbconvert_exporter": "python",
   "pygments_lexer": "ipython3",
   "version": "3.7.6"
  }
 },
 "nbformat": 4,
 "nbformat_minor": 4
}
